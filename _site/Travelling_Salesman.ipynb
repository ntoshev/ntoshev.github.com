{
 "metadata": {
  "name": ""
 },
 "nbformat": 3,
 "nbformat_minor": 0,
 "worksheets": [
  {
   "cells": [
    {
     "cell_type": "code",
     "collapsed": false,
     "input": [
      "import numpy as np\n",
      "%pylab qt\n",
      "import operator, heapq, random, itertools\n",
      "\n",
      "# helper function to perform an operation that does not return a value as part of an expression\n",
      "def in_place(oper, exp):\n",
      "    oper(exp)\n",
      "    return exp"
     ],
     "language": "python",
     "metadata": {},
     "outputs": [
      {
       "output_type": "stream",
       "stream": "stdout",
       "text": [
        "Populating the interactive namespace from numpy and matplotlib\n"
       ]
      }
     ],
     "prompt_number": 1
    },
    {
     "cell_type": "code",
     "collapsed": false,
     "input": [
      "points = np.array([[42.69505333013366,23.320026397705078],[42.69972131523776,23.319425582885742],[42.70192902379552,23.326377868652344],[42.69088969601617,23.326892852783203],[42.692340691108306,23.33144187927246],[42.69170982784213,23.314533233642578],[42.69000646501561,23.318138122558594],[42.69959515809203,23.3115291595459],[42.7038843572483,23.317108154296875],[42.7001628632293,23.332386016845703]])\n",
      "n = points.shape[0]\n",
      "\n",
      "# plot a path\n",
      "def show_path(path):\n",
      "    plt.axis('equal')\n",
      "    plt.plot(np.append(points[path, 0], points[path[0], 0]), np.append(points[path, 1], points[path[0], 1]))\n",
      "    for i, p in enumerate(points[path]):\n",
      "        plt.text(p[0], p[1], str(i))\n",
      "\n",
      "# plot the points only\n",
      "def show_points(points=points):\n",
      "    plt.axis('equal')\n",
      "    plt.scatter(points[:,0], points[:,1])\n",
      "\n",
      "# run this cell to see the points travelled in the order they are defined\n",
      "show_path(range(n))"
     ],
     "language": "python",
     "metadata": {},
     "outputs": [],
     "prompt_number": 16
    },
    {
     "cell_type": "markdown",
     "metadata": {},
     "source": [
      "Initialize a complete route either randomly, or picking the nearest neighbor."
     ]
    },
    {
     "cell_type": "code",
     "collapsed": false,
     "input": [
      "init_random = lambda: in_place(N.random.shuffle, range(n))\n",
      "\n",
      "# this picks random one of the k closest neghbors\n",
      "def init_closest(k):\n",
      "    path=[0]\n",
      "    curr_city=0\n",
      "    rem=range(1, n)\n",
      "    while rem!=[]:\n",
      "        new_city = random.choice(heapq.nsmallest(k, ((d_m[curr_city,x], x) for x in rem)))[1]\n",
      "        path.append(new_city)\n",
      "        rem.remove(new_city)\n",
      "        curr_city=new_city\n",
      "    return path\n"
     ],
     "language": "python",
     "metadata": {},
     "outputs": [],
     "prompt_number": 3
    },
    {
     "cell_type": "markdown",
     "metadata": {},
     "source": [
      "Initialize the distance matrix with eucledian distance between points"
     ]
    },
    {
     "cell_type": "code",
     "collapsed": false,
     "input": [
      "from scipy.spatial.distance import pdist, squareform\n",
      "d_m=squareform(pdist(points)) # complete the distance matrix using eucledian distances between points\n",
      "\n",
      "neg_cycle_len = lambda path: -d_m[path, np.roll(path, 1)].sum()"
     ],
     "language": "python",
     "metadata": {},
     "outputs": [],
     "prompt_number": 4
    },
    {
     "cell_type": "code",
     "collapsed": false,
     "input": [
      "def hillclimb(init, f, neighbors, animate=True, steps=10):\n",
      "    \"Search for an x that maximizes f(x), considering neighbors(x).\"\n",
      "    i = 0\n",
      "    res =[]\n",
      "    while i < steps:\n",
      "        fx2 = -float(\"inf\")\n",
      "        x = init # starting point\n",
      "        fx = f(x)\n",
      "        while fx2 < fx:\n",
      "            x2, fx2 = x, fx\n",
      "            if animate: # doesn't work in notebooks for some reason\n",
      "                plt.cla()\n",
      "                show_path(x)\n",
      "                plt.draw()\n",
      "            for x in neighbors(x2):\n",
      "                i+=1\n",
      "                fx = f(x)\n",
      "                if fx > fx2:\n",
      "                    break\n",
      "        res.append((x2, fx2, i))\n",
      "    print len(res), map(operator.itemgetter(1), res)\n",
      "    return max(res, key=operator.itemgetter(1)) \n"
     ],
     "language": "python",
     "metadata": {},
     "outputs": [],
     "prompt_number": 11
    },
    {
     "cell_type": "raw",
     "metadata": {},
     "source": [
      "Define operators over the path that may result in a shorter path. There may be many, FLIP is also known as opt2 and traverses a subpath in the reverse order. SLIDE moves one or more points along the path. These are used to explore the space of possible paths."
     ]
    },
    {
     "cell_type": "code",
     "collapsed": false,
     "input": [
      "def flipslide(path):\n",
      "    # do a FLIP move, if one is available\n",
      "    for j in in_place(np.random.shuffle, range(len(path))):\n",
      "        for i in in_place(np.random.shuffle, range(j)):            \n",
      "            new_path = np.concatenate((np.array(path[:i], dtype=int), path[j-1:i-1 if i-1 >=0 else None:-1], path[j:]))\n",
      "            if not np.array_equal(new_path, path):\n",
      "                yield new_path\n",
      "    # if not, do a SLIDE moving 3, 2, 1 points at once\n",
      "    for k in xrange(3, 0, -1):\n",
      "        for j in in_place(np.random.shuffle, range(len(path))):\n",
      "            for i in in_place(np.random.shuffle, range(j)):\n",
      "                # forward\n",
      "                yield np.concatenate((np.array(path[:i], dtype=int),path[i+k:j], path[i:i+k], path[j:]))\n",
      "                # and back\n",
      "                yield np.concatenate((np.array(path[:i], dtype=int), path[j:j+k], path[i:j], path[j+1:]))\n"
     ],
     "language": "python",
     "metadata": {},
     "outputs": [],
     "prompt_number": 12
    },
    {
     "cell_type": "raw",
     "metadata": {},
     "source": [
      "Do the hill climbing optimization, unfortunately animation doesn't seem to work in an ipython notebook (only the end result is shown). In dreampie it visualizes every step along the way."
     ]
    },
    {
     "cell_type": "code",
     "collapsed": false,
     "input": [
      "hillclimb(init_closest(3), neg_cycle_len, flipslide, steps=100) "
     ],
     "language": "python",
     "metadata": {},
     "outputs": [
      {
       "output_type": "stream",
       "stream": "stdout",
       "text": [
        "1 [-0.063856338073444041]\n"
       ]
      },
      {
       "metadata": {},
       "output_type": "pyout",
       "prompt_number": 17,
       "text": [
        "(array([5, 6, 0, 3, 4, 9, 2, 1, 8, 7]), -0.063856338073444041, 612)"
       ]
      }
     ],
     "prompt_number": 17
    },
    {
     "cell_type": "code",
     "collapsed": false,
     "input": [],
     "language": "python",
     "metadata": {},
     "outputs": []
    },
    {
     "cell_type": "code",
     "collapsed": false,
     "input": [],
     "language": "python",
     "metadata": {},
     "outputs": []
    }
   ],
   "metadata": {}
  }
 ]
}